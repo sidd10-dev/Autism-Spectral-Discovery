{
 "cells": [
  {
   "cell_type": "code",
   "execution_count": 2,
   "metadata": {},
   "outputs": [],
   "source": [
    "import pandas as pd\n",
    "import numpy as np\n",
    "from sklearn.model_selection import train_test_split"
   ]
  },
  {
   "cell_type": "code",
   "execution_count": 3,
   "metadata": {},
   "outputs": [],
   "source": [
    "df = pd.read_csv('../../Data/adult_cleaned.csv')"
   ]
  },
  {
   "attachments": {},
   "cell_type": "markdown",
   "metadata": {},
   "source": [
    "Train Test Split"
   ]
  },
  {
   "cell_type": "code",
   "execution_count": 4,
   "metadata": {},
   "outputs": [],
   "source": [
    "X_train, X_test, y_train, y_test = train_test_split(df.drop('Class/ASD', axis=1), df['Class/ASD'], test_size=0.2)"
   ]
  },
  {
   "cell_type": "code",
   "execution_count": 5,
   "metadata": {},
   "outputs": [],
   "source": [
    "y_train = np.asarray(y_train).astype('float32').reshape((-1,1))\n",
    "y_test = np.asarray(y_test).astype('float32').reshape((-1,1))"
   ]
  },
  {
   "attachments": {},
   "cell_type": "markdown",
   "metadata": {},
   "source": [
    "Building ANN Model"
   ]
  },
  {
   "cell_type": "code",
   "execution_count": 6,
   "metadata": {},
   "outputs": [],
   "source": [
    "from tensorflow.keras.models import Sequential\n",
    "from tensorflow.keras.layers import Dense\n",
    "from tensorflow.keras.optimizers import Adam"
   ]
  },
  {
   "cell_type": "code",
   "execution_count": 7,
   "metadata": {},
   "outputs": [],
   "source": [
    "model = Sequential()\n",
    "model.add(Dense(15, input_dim=X_train.shape[1], kernel_initializer='normal', activation='relu'))\n",
    "model.add(Dense(7, activation='relu'))\n",
    "model.add(Dense(1, activation='sigmoid'))"
   ]
  },
  {
   "cell_type": "code",
   "execution_count": 8,
   "metadata": {},
   "outputs": [],
   "source": [
    "model.compile(optimizer = Adam(), loss = 'binary_crossentropy', metrics = ['accuracy'])"
   ]
  },
  {
   "cell_type": "code",
   "execution_count": 9,
   "metadata": {},
   "outputs": [
    {
     "name": "stdout",
     "output_type": "stream",
     "text": [
      "Model: \"sequential\"\n",
      "_________________________________________________________________\n",
      " Layer (type)                Output Shape              Param #   \n",
      "=================================================================\n",
      " dense (Dense)               (None, 15)                1305      \n",
      "                                                                 \n",
      " dense_1 (Dense)             (None, 7)                 112       \n",
      "                                                                 \n",
      " dense_2 (Dense)             (None, 1)                 8         \n",
      "                                                                 \n",
      "=================================================================\n",
      "Total params: 1,425\n",
      "Trainable params: 1,425\n",
      "Non-trainable params: 0\n",
      "_________________________________________________________________\n"
     ]
    }
   ],
   "source": [
    "model.summary()"
   ]
  },
  {
   "cell_type": "code",
   "execution_count": 10,
   "metadata": {},
   "outputs": [
    {
     "name": "stdout",
     "output_type": "stream",
     "text": [
      "Epoch 1/30\n",
      "49/49 [==============================] - 1s 1ms/step - loss: 0.7989 - accuracy: 0.3183\n",
      "Epoch 2/30\n",
      "49/49 [==============================] - 0s 1ms/step - loss: 0.6776 - accuracy: 0.7084\n",
      "Epoch 3/30\n",
      "49/49 [==============================] - 0s 2ms/step - loss: 0.6516 - accuracy: 0.8275\n",
      "Epoch 4/30\n",
      "49/49 [==============================] - 0s 2ms/step - loss: 0.6268 - accuracy: 0.8665\n",
      "Epoch 5/30\n",
      "49/49 [==============================] - 0s 2ms/step - loss: 0.6036 - accuracy: 0.8624\n",
      "Epoch 6/30\n",
      "49/49 [==============================] - 0s 2ms/step - loss: 0.5706 - accuracy: 0.8768\n",
      "Epoch 7/30\n",
      "49/49 [==============================] - 0s 3ms/step - loss: 0.5228 - accuracy: 0.9220\n",
      "Epoch 8/30\n",
      "49/49 [==============================] - 0s 2ms/step - loss: 0.4561 - accuracy: 0.9220\n",
      "Epoch 9/30\n",
      "49/49 [==============================] - 0s 1ms/step - loss: 0.3837 - accuracy: 0.9261\n",
      "Epoch 10/30\n",
      "49/49 [==============================] - 0s 1ms/step - loss: 0.3318 - accuracy: 0.9261\n",
      "Epoch 11/30\n",
      "49/49 [==============================] - 0s 1ms/step - loss: 0.2871 - accuracy: 0.9281\n",
      "Epoch 12/30\n",
      "49/49 [==============================] - 0s 1ms/step - loss: 0.2599 - accuracy: 0.9281\n",
      "Epoch 13/30\n",
      "49/49 [==============================] - 0s 1ms/step - loss: 0.2409 - accuracy: 0.9179\n",
      "Epoch 14/30\n",
      "49/49 [==============================] - 0s 1ms/step - loss: 0.2207 - accuracy: 0.9322\n",
      "Epoch 15/30\n",
      "49/49 [==============================] - 0s 1ms/step - loss: 0.2026 - accuracy: 0.9466\n",
      "Epoch 16/30\n",
      "49/49 [==============================] - 0s 1ms/step - loss: 0.1973 - accuracy: 0.9446\n",
      "Epoch 17/30\n",
      "49/49 [==============================] - 0s 1ms/step - loss: 0.1863 - accuracy: 0.9446\n",
      "Epoch 18/30\n",
      "49/49 [==============================] - 0s 1ms/step - loss: 0.1831 - accuracy: 0.9363\n",
      "Epoch 19/30\n",
      "49/49 [==============================] - 0s 2ms/step - loss: 0.1734 - accuracy: 0.9363\n",
      "Epoch 20/30\n",
      "49/49 [==============================] - 0s 2ms/step - loss: 0.1693 - accuracy: 0.9487\n",
      "Epoch 21/30\n",
      "49/49 [==============================] - 0s 2ms/step - loss: 0.1595 - accuracy: 0.9466\n",
      "Epoch 22/30\n",
      "49/49 [==============================] - 0s 1ms/step - loss: 0.1562 - accuracy: 0.9466\n",
      "Epoch 23/30\n",
      "49/49 [==============================] - 0s 1ms/step - loss: 0.1535 - accuracy: 0.9487\n",
      "Epoch 24/30\n",
      "49/49 [==============================] - 0s 1ms/step - loss: 0.1480 - accuracy: 0.9507\n",
      "Epoch 25/30\n",
      "49/49 [==============================] - 0s 1ms/step - loss: 0.1404 - accuracy: 0.9487\n",
      "Epoch 26/30\n",
      "49/49 [==============================] - 0s 1ms/step - loss: 0.1419 - accuracy: 0.9487\n",
      "Epoch 27/30\n",
      "49/49 [==============================] - 0s 3ms/step - loss: 0.1366 - accuracy: 0.9569\n",
      "Epoch 28/30\n",
      "49/49 [==============================] - 0s 1ms/step - loss: 0.1304 - accuracy: 0.9487\n",
      "Epoch 29/30\n",
      "49/49 [==============================] - 0s 1ms/step - loss: 0.1273 - accuracy: 0.9528\n",
      "Epoch 30/30\n",
      "49/49 [==============================] - 0s 1ms/step - loss: 0.1264 - accuracy: 0.9589\n"
     ]
    },
    {
     "data": {
      "text/plain": [
       "<keras.callbacks.History at 0x27f7a1ddb50>"
      ]
     },
     "execution_count": 10,
     "metadata": {},
     "output_type": "execute_result"
    }
   ],
   "source": [
    "model.fit(X_train, y_train, epochs = 30, batch_size = 10)"
   ]
  },
  {
   "cell_type": "code",
   "execution_count": 11,
   "metadata": {},
   "outputs": [
    {
     "name": "stdout",
     "output_type": "stream",
     "text": [
      "4/4 [==============================] - 0s 2ms/step - loss: 0.1781 - accuracy: 0.9426\n"
     ]
    }
   ],
   "source": [
    "loss, acc = model.evaluate(X_test, y_test)"
   ]
  },
  {
   "cell_type": "code",
   "execution_count": 12,
   "metadata": {},
   "outputs": [
    {
     "name": "stdout",
     "output_type": "stream",
     "text": [
      "4/4 [==============================] - 0s 2ms/step\n"
     ]
    }
   ],
   "source": [
    "y_pred = model.predict(X_test)\n",
    "y_pred = (y_pred > 0.5)"
   ]
  },
  {
   "cell_type": "code",
   "execution_count": 13,
   "metadata": {},
   "outputs": [],
   "source": [
    "from sklearn.metrics import classification_report"
   ]
  },
  {
   "cell_type": "code",
   "execution_count": 15,
   "metadata": {},
   "outputs": [
    {
     "name": "stdout",
     "output_type": "stream",
     "text": [
      "              precision    recall  f1-score   support\n",
      "\n",
      "         0.0       0.98      0.94      0.96        88\n",
      "         1.0       0.86      0.94      0.90        34\n",
      "\n",
      "    accuracy                           0.94       122\n",
      "   macro avg       0.92      0.94      0.93       122\n",
      "weighted avg       0.95      0.94      0.94       122\n",
      "\n"
     ]
    }
   ],
   "source": [
    "print(classification_report(y_test,y_pred))"
   ]
  },
  {
   "cell_type": "code",
   "execution_count": null,
   "metadata": {},
   "outputs": [],
   "source": []
  }
 ],
 "metadata": {
  "kernelspec": {
   "display_name": "base",
   "language": "python",
   "name": "python3"
  },
  "language_info": {
   "codemirror_mode": {
    "name": "ipython",
    "version": 3
   },
   "file_extension": ".py",
   "mimetype": "text/x-python",
   "name": "python",
   "nbconvert_exporter": "python",
   "pygments_lexer": "ipython3",
   "version": "3.8.8"
  },
  "orig_nbformat": 4,
  "vscode": {
   "interpreter": {
    "hash": "4e586c6009393cfcf202ec50297316e9382f54d1058e51032afd540e90a9d6c1"
   }
  }
 },
 "nbformat": 4,
 "nbformat_minor": 2
}
