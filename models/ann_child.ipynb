{
 "cells": [
  {
   "cell_type": "code",
   "execution_count": 1,
   "metadata": {},
   "outputs": [],
   "source": [
    "import pandas as pd\n",
    "import numpy as np\n",
    "from sklearn.model_selection import train_test_split"
   ]
  },
  {
   "cell_type": "code",
   "execution_count": 2,
   "metadata": {},
   "outputs": [],
   "source": [
    "df = pd.read_csv('../Data/child_cleaned.csv')"
   ]
  },
  {
   "attachments": {},
   "cell_type": "markdown",
   "metadata": {},
   "source": [
    "Train Test Split"
   ]
  },
  {
   "cell_type": "code",
   "execution_count": 3,
   "metadata": {},
   "outputs": [],
   "source": [
    "X_train, X_test, y_train, y_test = train_test_split(df.drop('Class/ASD', axis=1), df['Class/ASD'], test_size=0.2)"
   ]
  },
  {
   "cell_type": "code",
   "execution_count": 4,
   "metadata": {},
   "outputs": [],
   "source": [
    "y_train = np.asarray(y_train).astype('float32').reshape((-1,1))\n",
    "y_test = np.asarray(y_test).astype('float32').reshape((-1,1))"
   ]
  },
  {
   "attachments": {},
   "cell_type": "markdown",
   "metadata": {},
   "source": [
    "Building ANN Model"
   ]
  },
  {
   "cell_type": "code",
   "execution_count": 5,
   "metadata": {},
   "outputs": [],
   "source": [
    "from tensorflow.keras.models import Sequential\n",
    "from tensorflow.keras.layers import Dense\n",
    "from tensorflow.keras.optimizers import Adam"
   ]
  },
  {
   "cell_type": "code",
   "execution_count": 6,
   "metadata": {},
   "outputs": [],
   "source": [
    "model = Sequential()\n",
    "model.add(Dense(15, input_dim=X_train.shape[1], kernel_initializer='normal', activation='relu'))\n",
    "model.add(Dense(7, activation='relu'))\n",
    "model.add(Dense(1, activation='sigmoid'))"
   ]
  },
  {
   "cell_type": "code",
   "execution_count": 7,
   "metadata": {},
   "outputs": [],
   "source": [
    "model.compile(optimizer = Adam(), loss = 'binary_crossentropy', metrics = ['accuracy'])"
   ]
  },
  {
   "cell_type": "code",
   "execution_count": 8,
   "metadata": {},
   "outputs": [
    {
     "name": "stdout",
     "output_type": "stream",
     "text": [
      "Model: \"sequential\"\n",
      "_________________________________________________________________\n",
      " Layer (type)                Output Shape              Param #   \n",
      "=================================================================\n",
      " dense (Dense)               (None, 15)                1080      \n",
      "                                                                 \n",
      " dense_1 (Dense)             (None, 7)                 112       \n",
      "                                                                 \n",
      " dense_2 (Dense)             (None, 1)                 8         \n",
      "                                                                 \n",
      "=================================================================\n",
      "Total params: 1,200\n",
      "Trainable params: 1,200\n",
      "Non-trainable params: 0\n",
      "_________________________________________________________________\n"
     ]
    }
   ],
   "source": [
    "model.summary()"
   ]
  },
  {
   "cell_type": "code",
   "execution_count": 9,
   "metadata": {},
   "outputs": [
    {
     "name": "stdout",
     "output_type": "stream",
     "text": [
      "Epoch 1/30\n",
      "20/20 [==============================] - 1s 1ms/step - loss: 0.6334 - accuracy: 0.5707\n",
      "Epoch 2/30\n",
      "20/20 [==============================] - 0s 1ms/step - loss: 0.5883 - accuracy: 0.6313\n",
      "Epoch 3/30\n",
      "20/20 [==============================] - 0s 2ms/step - loss: 0.5455 - accuracy: 0.7576\n",
      "Epoch 4/30\n",
      "20/20 [==============================] - 0s 2ms/step - loss: 0.5128 - accuracy: 0.8384\n",
      "Epoch 5/30\n",
      "20/20 [==============================] - 0s 2ms/step - loss: 0.4813 - accuracy: 0.8081\n",
      "Epoch 6/30\n",
      "20/20 [==============================] - 0s 1ms/step - loss: 0.4401 - accuracy: 0.8535\n",
      "Epoch 7/30\n",
      "20/20 [==============================] - 0s 1ms/step - loss: 0.4063 - accuracy: 0.8586\n",
      "Epoch 8/30\n",
      "20/20 [==============================] - 0s 1ms/step - loss: 0.3797 - accuracy: 0.8687\n",
      "Epoch 9/30\n",
      "20/20 [==============================] - 0s 1ms/step - loss: 0.3468 - accuracy: 0.8737\n",
      "Epoch 10/30\n",
      "20/20 [==============================] - 0s 1ms/step - loss: 0.3273 - accuracy: 0.8636\n",
      "Epoch 11/30\n",
      "20/20 [==============================] - 0s 1ms/step - loss: 0.3118 - accuracy: 0.8788\n",
      "Epoch 12/30\n",
      "20/20 [==============================] - 0s 1ms/step - loss: 0.2865 - accuracy: 0.8939\n",
      "Epoch 13/30\n",
      "20/20 [==============================] - 0s 1ms/step - loss: 0.2738 - accuracy: 0.8838\n",
      "Epoch 14/30\n",
      "20/20 [==============================] - 0s 1ms/step - loss: 0.2614 - accuracy: 0.8889\n",
      "Epoch 15/30\n",
      "20/20 [==============================] - 0s 1ms/step - loss: 0.2561 - accuracy: 0.9091\n",
      "Epoch 16/30\n",
      "20/20 [==============================] - 0s 1ms/step - loss: 0.2376 - accuracy: 0.9040\n",
      "Epoch 17/30\n",
      "20/20 [==============================] - 0s 1ms/step - loss: 0.2266 - accuracy: 0.9040\n",
      "Epoch 18/30\n",
      "20/20 [==============================] - 0s 1ms/step - loss: 0.2146 - accuracy: 0.9192\n",
      "Epoch 19/30\n",
      "20/20 [==============================] - 0s 1ms/step - loss: 0.2077 - accuracy: 0.9091\n",
      "Epoch 20/30\n",
      "20/20 [==============================] - 0s 1ms/step - loss: 0.1992 - accuracy: 0.9192\n",
      "Epoch 21/30\n",
      "20/20 [==============================] - 0s 1ms/step - loss: 0.1934 - accuracy: 0.9192\n",
      "Epoch 22/30\n",
      "20/20 [==============================] - 0s 1ms/step - loss: 0.1856 - accuracy: 0.9293\n",
      "Epoch 23/30\n",
      "20/20 [==============================] - 0s 1ms/step - loss: 0.1824 - accuracy: 0.9293\n",
      "Epoch 24/30\n",
      "20/20 [==============================] - 0s 1ms/step - loss: 0.1787 - accuracy: 0.9343\n",
      "Epoch 25/30\n",
      "20/20 [==============================] - 0s 1ms/step - loss: 0.1705 - accuracy: 0.9394\n",
      "Epoch 26/30\n",
      "20/20 [==============================] - 0s 1ms/step - loss: 0.1649 - accuracy: 0.9495\n",
      "Epoch 27/30\n",
      "20/20 [==============================] - 0s 1ms/step - loss: 0.1564 - accuracy: 0.9444\n",
      "Epoch 28/30\n",
      "20/20 [==============================] - 0s 1ms/step - loss: 0.1547 - accuracy: 0.9495\n",
      "Epoch 29/30\n",
      "20/20 [==============================] - 0s 1ms/step - loss: 0.1491 - accuracy: 0.9495\n",
      "Epoch 30/30\n",
      "20/20 [==============================] - 0s 1ms/step - loss: 0.1445 - accuracy: 0.9545\n"
     ]
    },
    {
     "data": {
      "text/plain": [
       "<keras.callbacks.History at 0x1f256758970>"
      ]
     },
     "execution_count": 9,
     "metadata": {},
     "output_type": "execute_result"
    }
   ],
   "source": [
    "model.fit(X_train, y_train, epochs = 30, batch_size = 10)"
   ]
  },
  {
   "cell_type": "code",
   "execution_count": 10,
   "metadata": {},
   "outputs": [
    {
     "name": "stdout",
     "output_type": "stream",
     "text": [
      "2/2 [==============================] - 0s 3ms/step - loss: 0.2618 - accuracy: 0.9000\n"
     ]
    }
   ],
   "source": [
    "loss, acc = model.evaluate(X_test, y_test)"
   ]
  }
 ],
 "metadata": {
  "kernelspec": {
   "display_name": "base",
   "language": "python",
   "name": "python3"
  },
  "language_info": {
   "codemirror_mode": {
    "name": "ipython",
    "version": 3
   },
   "file_extension": ".py",
   "mimetype": "text/x-python",
   "name": "python",
   "nbconvert_exporter": "python",
   "pygments_lexer": "ipython3",
   "version": "3.8.8"
  },
  "orig_nbformat": 4,
  "vscode": {
   "interpreter": {
    "hash": "4e586c6009393cfcf202ec50297316e9382f54d1058e51032afd540e90a9d6c1"
   }
  }
 },
 "nbformat": 4,
 "nbformat_minor": 2
}
