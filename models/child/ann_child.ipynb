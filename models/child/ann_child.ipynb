{
 "cells": [
  {
   "cell_type": "code",
   "execution_count": 3,
   "metadata": {},
   "outputs": [],
   "source": [
    "import pandas as pd\n",
    "import numpy as np\n",
    "from sklearn.model_selection import train_test_split"
   ]
  },
  {
   "cell_type": "code",
   "execution_count": 4,
   "metadata": {},
   "outputs": [],
   "source": [
    "df = pd.read_csv('../../Data/child_cleaned.csv')"
   ]
  },
  {
   "attachments": {},
   "cell_type": "markdown",
   "metadata": {},
   "source": [
    "Train Test Split"
   ]
  },
  {
   "cell_type": "code",
   "execution_count": 5,
   "metadata": {},
   "outputs": [],
   "source": [
    "X_train, X_test, y_train, y_test = train_test_split(df.drop('Class/ASD', axis=1), df['Class/ASD'], test_size=0.2)"
   ]
  },
  {
   "cell_type": "code",
   "execution_count": 6,
   "metadata": {},
   "outputs": [],
   "source": [
    "y_train = np.asarray(y_train).astype('float32').reshape((-1,1))\n",
    "y_test = np.asarray(y_test).astype('float32').reshape((-1,1))"
   ]
  },
  {
   "attachments": {},
   "cell_type": "markdown",
   "metadata": {},
   "source": [
    "Building ANN Model"
   ]
  },
  {
   "cell_type": "code",
   "execution_count": 7,
   "metadata": {},
   "outputs": [],
   "source": [
    "from tensorflow.keras.models import Sequential\n",
    "from tensorflow.keras.layers import Dense\n",
    "from tensorflow.keras.optimizers import Adam"
   ]
  },
  {
   "cell_type": "code",
   "execution_count": 8,
   "metadata": {},
   "outputs": [],
   "source": [
    "model = Sequential()\n",
    "model.add(Dense(15, input_dim=X_train.shape[1], kernel_initializer='normal', activation='relu'))\n",
    "model.add(Dense(7, activation='relu'))\n",
    "model.add(Dense(1, activation='sigmoid'))"
   ]
  },
  {
   "cell_type": "code",
   "execution_count": 9,
   "metadata": {},
   "outputs": [],
   "source": [
    "model.compile(optimizer = Adam(), loss = 'binary_crossentropy', metrics = ['accuracy'])"
   ]
  },
  {
   "cell_type": "code",
   "execution_count": 10,
   "metadata": {},
   "outputs": [
    {
     "name": "stdout",
     "output_type": "stream",
     "text": [
      "Model: \"sequential\"\n",
      "_________________________________________________________________\n",
      " Layer (type)                Output Shape              Param #   \n",
      "=================================================================\n",
      " dense (Dense)               (None, 15)                1080      \n",
      "                                                                 \n",
      " dense_1 (Dense)             (None, 7)                 112       \n",
      "                                                                 \n",
      " dense_2 (Dense)             (None, 1)                 8         \n",
      "                                                                 \n",
      "=================================================================\n",
      "Total params: 1,200\n",
      "Trainable params: 1,200\n",
      "Non-trainable params: 0\n",
      "_________________________________________________________________\n"
     ]
    }
   ],
   "source": [
    "model.summary()"
   ]
  },
  {
   "cell_type": "code",
   "execution_count": 11,
   "metadata": {},
   "outputs": [
    {
     "name": "stdout",
     "output_type": "stream",
     "text": [
      "Epoch 1/30\n",
      "20/20 [==============================] - 1s 2ms/step - loss: 0.7020 - accuracy: 0.4646\n",
      "Epoch 2/30\n",
      "20/20 [==============================] - 0s 1ms/step - loss: 0.6897 - accuracy: 0.6414\n",
      "Epoch 3/30\n",
      "20/20 [==============================] - 0s 1ms/step - loss: 0.6800 - accuracy: 0.6263\n",
      "Epoch 4/30\n",
      "20/20 [==============================] - 0s 1ms/step - loss: 0.6631 - accuracy: 0.6919\n",
      "Epoch 5/30\n",
      "20/20 [==============================] - 0s 1ms/step - loss: 0.6408 - accuracy: 0.7071\n",
      "Epoch 6/30\n",
      "20/20 [==============================] - 0s 1ms/step - loss: 0.6173 - accuracy: 0.8030\n",
      "Epoch 7/30\n",
      "20/20 [==============================] - 0s 2ms/step - loss: 0.5973 - accuracy: 0.7879\n",
      "Epoch 8/30\n",
      "20/20 [==============================] - 0s 2ms/step - loss: 0.5745 - accuracy: 0.8030\n",
      "Epoch 9/30\n",
      "20/20 [==============================] - 0s 2ms/step - loss: 0.5556 - accuracy: 0.8535\n",
      "Epoch 10/30\n",
      "20/20 [==============================] - 0s 2ms/step - loss: 0.5366 - accuracy: 0.8535\n",
      "Epoch 11/30\n",
      "20/20 [==============================] - 0s 2ms/step - loss: 0.5214 - accuracy: 0.8434\n",
      "Epoch 12/30\n",
      "20/20 [==============================] - 0s 2ms/step - loss: 0.5068 - accuracy: 0.8838\n",
      "Epoch 13/30\n",
      "20/20 [==============================] - 0s 2ms/step - loss: 0.4951 - accuracy: 0.8687\n",
      "Epoch 14/30\n",
      "20/20 [==============================] - 0s 2ms/step - loss: 0.4812 - accuracy: 0.8788\n",
      "Epoch 15/30\n",
      "20/20 [==============================] - 0s 2ms/step - loss: 0.4716 - accuracy: 0.8838\n",
      "Epoch 16/30\n",
      "20/20 [==============================] - 0s 2ms/step - loss: 0.4617 - accuracy: 0.9091\n",
      "Epoch 17/30\n",
      "20/20 [==============================] - 0s 2ms/step - loss: 0.4509 - accuracy: 0.9040\n",
      "Epoch 18/30\n",
      "20/20 [==============================] - 0s 2ms/step - loss: 0.4442 - accuracy: 0.9040\n",
      "Epoch 19/30\n",
      "20/20 [==============================] - 0s 2ms/step - loss: 0.4330 - accuracy: 0.9091\n",
      "Epoch 20/30\n",
      "20/20 [==============================] - 0s 2ms/step - loss: 0.4242 - accuracy: 0.9091\n",
      "Epoch 21/30\n",
      "20/20 [==============================] - 0s 2ms/step - loss: 0.4158 - accuracy: 0.9141\n",
      "Epoch 22/30\n",
      "20/20 [==============================] - 0s 2ms/step - loss: 0.4075 - accuracy: 0.9091\n",
      "Epoch 23/30\n",
      "20/20 [==============================] - 0s 1ms/step - loss: 0.4060 - accuracy: 0.9192\n",
      "Epoch 24/30\n",
      "20/20 [==============================] - 0s 2ms/step - loss: 0.3948 - accuracy: 0.9192\n",
      "Epoch 25/30\n",
      "20/20 [==============================] - 0s 2ms/step - loss: 0.3856 - accuracy: 0.9394\n",
      "Epoch 26/30\n",
      "20/20 [==============================] - 0s 2ms/step - loss: 0.3772 - accuracy: 0.9343\n",
      "Epoch 27/30\n",
      "20/20 [==============================] - 0s 2ms/step - loss: 0.3748 - accuracy: 0.9343\n",
      "Epoch 28/30\n",
      "20/20 [==============================] - 0s 2ms/step - loss: 0.3611 - accuracy: 0.9495\n",
      "Epoch 29/30\n",
      "20/20 [==============================] - 0s 2ms/step - loss: 0.3575 - accuracy: 0.9495\n",
      "Epoch 30/30\n",
      "20/20 [==============================] - 0s 2ms/step - loss: 0.3490 - accuracy: 0.9596\n"
     ]
    },
    {
     "data": {
      "text/plain": [
       "<keras.callbacks.History at 0x20df38247c0>"
      ]
     },
     "execution_count": 11,
     "metadata": {},
     "output_type": "execute_result"
    }
   ],
   "source": [
    "model.fit(X_train, y_train, epochs = 30, batch_size = 10)"
   ]
  },
  {
   "cell_type": "code",
   "execution_count": 12,
   "metadata": {},
   "outputs": [
    {
     "name": "stdout",
     "output_type": "stream",
     "text": [
      "2/2 [==============================] - 0s 2ms/step - loss: 0.3842 - accuracy: 0.8800\n"
     ]
    }
   ],
   "source": [
    "loss, acc = model.evaluate(X_test, y_test)"
   ]
  },
  {
   "cell_type": "code",
   "execution_count": 13,
   "metadata": {},
   "outputs": [
    {
     "name": "stdout",
     "output_type": "stream",
     "text": [
      "2/2 [==============================] - 0s 2ms/step\n"
     ]
    }
   ],
   "source": [
    "y_pred = model.predict(X_test)\n",
    "y_pred = (y_pred > 0.5)"
   ]
  },
  {
   "cell_type": "code",
   "execution_count": 14,
   "metadata": {},
   "outputs": [],
   "source": [
    "from sklearn.metrics import classification_report"
   ]
  },
  {
   "cell_type": "code",
   "execution_count": 15,
   "metadata": {},
   "outputs": [
    {
     "name": "stdout",
     "output_type": "stream",
     "text": [
      "              precision    recall  f1-score   support\n",
      "\n",
      "         0.0       0.84      0.96      0.90        27\n",
      "         1.0       0.95      0.78      0.86        23\n",
      "\n",
      "    accuracy                           0.88        50\n",
      "   macro avg       0.89      0.87      0.88        50\n",
      "weighted avg       0.89      0.88      0.88        50\n",
      "\n"
     ]
    }
   ],
   "source": [
    "print(classification_report(y_test,y_pred))"
   ]
  }
 ],
 "metadata": {
  "kernelspec": {
   "display_name": "base",
   "language": "python",
   "name": "python3"
  },
  "language_info": {
   "codemirror_mode": {
    "name": "ipython",
    "version": 3
   },
   "file_extension": ".py",
   "mimetype": "text/x-python",
   "name": "python",
   "nbconvert_exporter": "python",
   "pygments_lexer": "ipython3",
   "version": "3.8.8"
  },
  "orig_nbformat": 4,
  "vscode": {
   "interpreter": {
    "hash": "4e586c6009393cfcf202ec50297316e9382f54d1058e51032afd540e90a9d6c1"
   }
  }
 },
 "nbformat": 4,
 "nbformat_minor": 2
}
