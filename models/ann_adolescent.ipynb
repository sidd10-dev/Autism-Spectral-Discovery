{
 "cells": [
  {
   "cell_type": "code",
   "execution_count": 1,
   "metadata": {},
   "outputs": [],
   "source": [
    "import pandas as pd\n",
    "import numpy as np\n",
    "from sklearn.model_selection import train_test_split"
   ]
  },
  {
   "cell_type": "code",
   "execution_count": 2,
   "metadata": {},
   "outputs": [],
   "source": [
    "df = pd.read_csv('../Data/adolescent_cleaned.csv')"
   ]
  },
  {
   "attachments": {},
   "cell_type": "markdown",
   "metadata": {},
   "source": [
    "Train Test Split"
   ]
  },
  {
   "cell_type": "code",
   "execution_count": 3,
   "metadata": {},
   "outputs": [],
   "source": [
    "X_train, X_test, y_train, y_test = train_test_split(df.drop('Class/ASD', axis=1), df['Class/ASD'], test_size=0.2)"
   ]
  },
  {
   "cell_type": "code",
   "execution_count": 4,
   "metadata": {},
   "outputs": [],
   "source": [
    "y_train = np.asarray(y_train).astype('float32').reshape((-1,1))\n",
    "y_test = np.asarray(y_test).astype('float32').reshape((-1,1))"
   ]
  },
  {
   "attachments": {},
   "cell_type": "markdown",
   "metadata": {},
   "source": [
    "Building ANN Model"
   ]
  },
  {
   "cell_type": "code",
   "execution_count": 5,
   "metadata": {},
   "outputs": [],
   "source": [
    "from tensorflow.keras.models import Sequential\n",
    "from tensorflow.keras.layers import Dense\n",
    "from tensorflow.keras.optimizers import Adam"
   ]
  },
  {
   "cell_type": "code",
   "execution_count": 6,
   "metadata": {},
   "outputs": [],
   "source": [
    "model = Sequential()\n",
    "model.add(Dense(15, input_dim=X_train.shape[1], kernel_initializer='normal', activation='relu'))\n",
    "model.add(Dense(7, activation='relu'))\n",
    "model.add(Dense(1, activation='sigmoid'))"
   ]
  },
  {
   "cell_type": "code",
   "execution_count": 7,
   "metadata": {},
   "outputs": [],
   "source": [
    "model.compile(optimizer = Adam(), loss = 'binary_crossentropy', metrics = ['accuracy'])"
   ]
  },
  {
   "cell_type": "code",
   "execution_count": 8,
   "metadata": {},
   "outputs": [
    {
     "name": "stdout",
     "output_type": "stream",
     "text": [
      "Model: \"sequential\"\n",
      "_________________________________________________________________\n",
      " Layer (type)                Output Shape              Param #   \n",
      "=================================================================\n",
      " dense (Dense)               (None, 15)                840       \n",
      "                                                                 \n",
      " dense_1 (Dense)             (None, 7)                 112       \n",
      "                                                                 \n",
      " dense_2 (Dense)             (None, 1)                 8         \n",
      "                                                                 \n",
      "=================================================================\n",
      "Total params: 960\n",
      "Trainable params: 960\n",
      "Non-trainable params: 0\n",
      "_________________________________________________________________\n"
     ]
    }
   ],
   "source": [
    "model.summary()"
   ]
  },
  {
   "cell_type": "code",
   "execution_count": 9,
   "metadata": {},
   "outputs": [
    {
     "name": "stdout",
     "output_type": "stream",
     "text": [
      "Epoch 1/30\n",
      "8/8 [==============================] - 1s 2ms/step - loss: 0.7085 - accuracy: 0.6026\n",
      "Epoch 2/30\n",
      "8/8 [==============================] - 0s 1ms/step - loss: 0.6864 - accuracy: 0.6026\n",
      "Epoch 3/30\n",
      "8/8 [==============================] - 0s 1ms/step - loss: 0.6706 - accuracy: 0.6026\n",
      "Epoch 4/30\n",
      "8/8 [==============================] - 0s 1ms/step - loss: 0.6573 - accuracy: 0.6026\n",
      "Epoch 5/30\n",
      "8/8 [==============================] - 0s 1ms/step - loss: 0.6451 - accuracy: 0.6026\n",
      "Epoch 6/30\n",
      "8/8 [==============================] - 0s 1ms/step - loss: 0.6339 - accuracy: 0.6026\n",
      "Epoch 7/30\n",
      "8/8 [==============================] - 0s 1ms/step - loss: 0.6218 - accuracy: 0.6026\n",
      "Epoch 8/30\n",
      "8/8 [==============================] - 0s 1ms/step - loss: 0.6113 - accuracy: 0.6026\n",
      "Epoch 9/30\n",
      "8/8 [==============================] - 0s 1ms/step - loss: 0.6010 - accuracy: 0.6026\n",
      "Epoch 10/30\n",
      "8/8 [==============================] - 0s 1ms/step - loss: 0.5890 - accuracy: 0.6026\n",
      "Epoch 11/30\n",
      "8/8 [==============================] - 0s 1ms/step - loss: 0.5774 - accuracy: 0.6026\n",
      "Epoch 12/30\n",
      "8/8 [==============================] - 0s 2ms/step - loss: 0.5657 - accuracy: 0.6026\n",
      "Epoch 13/30\n",
      "8/8 [==============================] - 0s 6ms/step - loss: 0.5535 - accuracy: 0.6154\n",
      "Epoch 14/30\n",
      "8/8 [==============================] - 0s 3ms/step - loss: 0.5424 - accuracy: 0.6282\n",
      "Epoch 15/30\n",
      "8/8 [==============================] - 0s 2ms/step - loss: 0.5284 - accuracy: 0.6667\n",
      "Epoch 16/30\n",
      "8/8 [==============================] - 0s 2ms/step - loss: 0.5153 - accuracy: 0.7179\n",
      "Epoch 17/30\n",
      "8/8 [==============================] - 0s 2ms/step - loss: 0.5014 - accuracy: 0.7564\n",
      "Epoch 18/30\n",
      "8/8 [==============================] - 0s 1ms/step - loss: 0.4860 - accuracy: 0.7564\n",
      "Epoch 19/30\n",
      "8/8 [==============================] - 0s 1ms/step - loss: 0.4693 - accuracy: 0.7692\n",
      "Epoch 20/30\n",
      "8/8 [==============================] - 0s 1ms/step - loss: 0.4523 - accuracy: 0.8077\n",
      "Epoch 21/30\n",
      "8/8 [==============================] - 0s 2ms/step - loss: 0.4353 - accuracy: 0.8077\n",
      "Epoch 22/30\n",
      "8/8 [==============================] - 0s 2ms/step - loss: 0.4185 - accuracy: 0.8333\n",
      "Epoch 23/30\n",
      "8/8 [==============================] - 0s 1ms/step - loss: 0.4052 - accuracy: 0.8333\n",
      "Epoch 24/30\n",
      "8/8 [==============================] - 0s 2ms/step - loss: 0.3861 - accuracy: 0.8590\n",
      "Epoch 25/30\n",
      "8/8 [==============================] - 0s 1ms/step - loss: 0.3724 - accuracy: 0.8718\n",
      "Epoch 26/30\n",
      "8/8 [==============================] - 0s 1ms/step - loss: 0.3554 - accuracy: 0.9103\n",
      "Epoch 27/30\n",
      "8/8 [==============================] - 0s 1ms/step - loss: 0.3411 - accuracy: 0.9103\n",
      "Epoch 28/30\n",
      "8/8 [==============================] - 0s 1ms/step - loss: 0.3271 - accuracy: 0.9103\n",
      "Epoch 29/30\n",
      "8/8 [==============================] - 0s 2ms/step - loss: 0.3112 - accuracy: 0.9231\n",
      "Epoch 30/30\n",
      "8/8 [==============================] - 0s 2ms/step - loss: 0.2986 - accuracy: 0.9231\n"
     ]
    },
    {
     "data": {
      "text/plain": [
       "<keras.callbacks.History at 0x17ed72489a0>"
      ]
     },
     "execution_count": 9,
     "metadata": {},
     "output_type": "execute_result"
    }
   ],
   "source": [
    "model.fit(X_train, y_train, epochs = 30, batch_size = 10)"
   ]
  }
 ],
 "metadata": {
  "kernelspec": {
   "display_name": "base",
   "language": "python",
   "name": "python3"
  },
  "language_info": {
   "codemirror_mode": {
    "name": "ipython",
    "version": 3
   },
   "file_extension": ".py",
   "mimetype": "text/x-python",
   "name": "python",
   "nbconvert_exporter": "python",
   "pygments_lexer": "ipython3",
   "version": "3.8.8"
  },
  "orig_nbformat": 4,
  "vscode": {
   "interpreter": {
    "hash": "4e586c6009393cfcf202ec50297316e9382f54d1058e51032afd540e90a9d6c1"
   }
  }
 },
 "nbformat": 4,
 "nbformat_minor": 2
}
