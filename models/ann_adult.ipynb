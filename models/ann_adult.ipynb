{
 "cells": [
  {
   "cell_type": "code",
   "execution_count": 2,
   "metadata": {},
   "outputs": [],
   "source": [
    "import pandas as pd\n",
    "import numpy as np\n",
    "from sklearn.model_selection import train_test_split"
   ]
  },
  {
   "cell_type": "code",
   "execution_count": 3,
   "metadata": {},
   "outputs": [],
   "source": [
    "df = pd.read_csv('../Data/adult_cleaned.csv')"
   ]
  },
  {
   "attachments": {},
   "cell_type": "markdown",
   "metadata": {},
   "source": [
    "Train Test Split"
   ]
  },
  {
   "cell_type": "code",
   "execution_count": 4,
   "metadata": {},
   "outputs": [],
   "source": [
    "X_train, X_test, y_train, y_test = train_test_split(df.drop('Class/ASD', axis=1), df['Class/ASD'], test_size=0.2)"
   ]
  },
  {
   "cell_type": "code",
   "execution_count": 16,
   "metadata": {},
   "outputs": [],
   "source": [
    "y_train = np.asarray(y_train).astype('float32').reshape((-1,1))\n",
    "y_test = np.asarray(y_test).astype('float32').reshape((-1,1))"
   ]
  },
  {
   "attachments": {},
   "cell_type": "markdown",
   "metadata": {},
   "source": [
    "Building ANN Model"
   ]
  },
  {
   "cell_type": "code",
   "execution_count": 6,
   "metadata": {},
   "outputs": [],
   "source": [
    "from tensorflow.keras.models import Sequential\n",
    "from tensorflow.keras.layers import Dense\n",
    "from tensorflow.keras.optimizers import Adam"
   ]
  },
  {
   "cell_type": "code",
   "execution_count": 25,
   "metadata": {},
   "outputs": [],
   "source": [
    "model = Sequential()\n",
    "model.add(Dense(15, input_dim=X_train.shape[1], kernel_initializer='normal', activation='relu'))\n",
    "model.add(Dense(7, activation='relu'))\n",
    "model.add(Dense(1, activation='sigmoid'))"
   ]
  },
  {
   "cell_type": "code",
   "execution_count": 26,
   "metadata": {},
   "outputs": [],
   "source": [
    "model.compile(optimizer = Adam(), loss = 'binary_crossentropy', metrics = ['accuracy'])"
   ]
  },
  {
   "cell_type": "code",
   "execution_count": 27,
   "metadata": {},
   "outputs": [
    {
     "name": "stdout",
     "output_type": "stream",
     "text": [
      "Model: \"sequential_3\"\n",
      "_________________________________________________________________\n",
      " Layer (type)                Output Shape              Param #   \n",
      "=================================================================\n",
      " dense_9 (Dense)             (None, 15)                1305      \n",
      "                                                                 \n",
      " dense_10 (Dense)            (None, 7)                 112       \n",
      "                                                                 \n",
      " dense_11 (Dense)            (None, 1)                 8         \n",
      "                                                                 \n",
      "=================================================================\n",
      "Total params: 1,425\n",
      "Trainable params: 1,425\n",
      "Non-trainable params: 0\n",
      "_________________________________________________________________\n"
     ]
    }
   ],
   "source": [
    "model.summary()"
   ]
  },
  {
   "cell_type": "code",
   "execution_count": 28,
   "metadata": {},
   "outputs": [
    {
     "name": "stdout",
     "output_type": "stream",
     "text": [
      "Epoch 1/30\n",
      "49/49 [==============================] - 0s 1ms/step - loss: 0.6239 - accuracy: 0.7125\n",
      "Epoch 2/30\n",
      "49/49 [==============================] - 0s 2ms/step - loss: 0.4872 - accuracy: 0.8296\n",
      "Epoch 3/30\n",
      "49/49 [==============================] - 0s 1ms/step - loss: 0.4013 - accuracy: 0.8501\n",
      "Epoch 4/30\n",
      "49/49 [==============================] - 0s 1ms/step - loss: 0.3389 - accuracy: 0.8830\n",
      "Epoch 5/30\n",
      "49/49 [==============================] - 0s 2ms/step - loss: 0.2904 - accuracy: 0.8953\n",
      "Epoch 6/30\n",
      "49/49 [==============================] - 0s 2ms/step - loss: 0.2591 - accuracy: 0.9158\n",
      "Epoch 7/30\n",
      "49/49 [==============================] - 0s 1ms/step - loss: 0.2404 - accuracy: 0.9076\n",
      "Epoch 8/30\n",
      "49/49 [==============================] - 0s 2ms/step - loss: 0.2216 - accuracy: 0.9240\n",
      "Epoch 9/30\n",
      "49/49 [==============================] - 0s 2ms/step - loss: 0.2042 - accuracy: 0.9302\n",
      "Epoch 10/30\n",
      "49/49 [==============================] - 0s 1ms/step - loss: 0.1988 - accuracy: 0.9281\n",
      "Epoch 11/30\n",
      "49/49 [==============================] - 0s 3ms/step - loss: 0.1819 - accuracy: 0.9384\n",
      "Epoch 12/30\n",
      "49/49 [==============================] - 0s 2ms/step - loss: 0.1718 - accuracy: 0.9405\n",
      "Epoch 13/30\n",
      "49/49 [==============================] - 0s 1ms/step - loss: 0.1681 - accuracy: 0.9425\n",
      "Epoch 14/30\n",
      "49/49 [==============================] - 0s 1ms/step - loss: 0.1626 - accuracy: 0.9405\n",
      "Epoch 15/30\n",
      "49/49 [==============================] - 0s 1ms/step - loss: 0.1540 - accuracy: 0.9446\n",
      "Epoch 16/30\n",
      "49/49 [==============================] - 0s 1ms/step - loss: 0.1469 - accuracy: 0.9446\n",
      "Epoch 17/30\n",
      "49/49 [==============================] - 0s 1ms/step - loss: 0.1448 - accuracy: 0.9507\n",
      "Epoch 18/30\n",
      "49/49 [==============================] - 0s 2ms/step - loss: 0.1411 - accuracy: 0.9507\n",
      "Epoch 19/30\n",
      "49/49 [==============================] - 0s 1ms/step - loss: 0.1345 - accuracy: 0.9466\n",
      "Epoch 20/30\n",
      "49/49 [==============================] - 0s 1ms/step - loss: 0.1299 - accuracy: 0.9548\n",
      "Epoch 21/30\n",
      "49/49 [==============================] - 0s 2ms/step - loss: 0.1252 - accuracy: 0.9548\n",
      "Epoch 22/30\n",
      "49/49 [==============================] - 0s 2ms/step - loss: 0.1276 - accuracy: 0.9589\n",
      "Epoch 23/30\n",
      "49/49 [==============================] - 0s 2ms/step - loss: 0.1280 - accuracy: 0.9487\n",
      "Epoch 24/30\n",
      "49/49 [==============================] - 0s 2ms/step - loss: 0.1148 - accuracy: 0.9589\n",
      "Epoch 25/30\n",
      "49/49 [==============================] - 0s 2ms/step - loss: 0.1132 - accuracy: 0.9630\n",
      "Epoch 26/30\n",
      "49/49 [==============================] - 0s 2ms/step - loss: 0.1130 - accuracy: 0.9528\n",
      "Epoch 27/30\n",
      "49/49 [==============================] - 0s 2ms/step - loss: 0.1055 - accuracy: 0.9630\n",
      "Epoch 28/30\n",
      "49/49 [==============================] - 0s 2ms/step - loss: 0.1028 - accuracy: 0.9630\n",
      "Epoch 29/30\n",
      "49/49 [==============================] - 0s 2ms/step - loss: 0.1076 - accuracy: 0.9610\n",
      "Epoch 30/30\n",
      "49/49 [==============================] - 0s 2ms/step - loss: 0.0989 - accuracy: 0.9671\n"
     ]
    },
    {
     "data": {
      "text/plain": [
       "<keras.callbacks.History at 0x2aa57074280>"
      ]
     },
     "execution_count": 28,
     "metadata": {},
     "output_type": "execute_result"
    }
   ],
   "source": [
    "model.fit(X_train, y_train, epochs = 30, batch_size = 10)"
   ]
  },
  {
   "cell_type": "code",
   "execution_count": 29,
   "metadata": {},
   "outputs": [
    {
     "name": "stdout",
     "output_type": "stream",
     "text": [
      "4/4 [==============================] - 0s 2ms/step - loss: 0.1360 - accuracy: 0.9344\n"
     ]
    }
   ],
   "source": [
    "loss, acc = model.evaluate(X_test, y_test)"
   ]
  }
 ],
 "metadata": {
  "kernelspec": {
   "display_name": "base",
   "language": "python",
   "name": "python3"
  },
  "language_info": {
   "codemirror_mode": {
    "name": "ipython",
    "version": 3
   },
   "file_extension": ".py",
   "mimetype": "text/x-python",
   "name": "python",
   "nbconvert_exporter": "python",
   "pygments_lexer": "ipython3",
   "version": "3.8.8"
  },
  "orig_nbformat": 4,
  "vscode": {
   "interpreter": {
    "hash": "4e586c6009393cfcf202ec50297316e9382f54d1058e51032afd540e90a9d6c1"
   }
  }
 },
 "nbformat": 4,
 "nbformat_minor": 2
}
