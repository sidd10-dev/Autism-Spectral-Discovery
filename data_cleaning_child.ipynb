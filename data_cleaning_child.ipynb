{
 "cells": [
  {
   "cell_type": "code",
   "execution_count": 2,
   "metadata": {},
   "outputs": [],
   "source": [
    "import pandas as pd\n",
    "import numpy as np"
   ]
  },
  {
   "cell_type": "code",
   "execution_count": 3,
   "metadata": {},
   "outputs": [],
   "source": [
    "df = pd.read_csv('./Data/child.csv')"
   ]
  },
  {
   "cell_type": "code",
   "execution_count": 4,
   "metadata": {},
   "outputs": [
    {
     "data": {
      "text/plain": [
       "Index(['id', 'A1_Score', 'A2_Score', 'A3_Score', 'A4_Score', 'A5_Score',\n",
       "       'A6_Score', 'A7_Score', 'A8_Score', 'A9_Score', 'A10_Score', 'age',\n",
       "       'gender', 'ethnicity', 'jundice', 'austim', 'contry_of_res',\n",
       "       'used_app_before', 'result', 'age_desc', 'relation', 'Class/ASD'],\n",
       "      dtype='object')"
      ]
     },
     "execution_count": 4,
     "metadata": {},
     "output_type": "execute_result"
    }
   ],
   "source": [
    "df.columns"
   ]
  },
  {
   "cell_type": "code",
   "execution_count": 5,
   "metadata": {},
   "outputs": [
    {
     "name": "stdout",
     "output_type": "stream",
     "text": [
      "<class 'pandas.core.frame.DataFrame'>\n",
      "RangeIndex: 292 entries, 0 to 291\n",
      "Data columns (total 22 columns):\n",
      " #   Column           Non-Null Count  Dtype \n",
      "---  ------           --------------  ----- \n",
      " 0   id               292 non-null    int64 \n",
      " 1   A1_Score         292 non-null    int64 \n",
      " 2   A2_Score         292 non-null    int64 \n",
      " 3   A3_Score         292 non-null    int64 \n",
      " 4   A4_Score         292 non-null    int64 \n",
      " 5   A5_Score         292 non-null    int64 \n",
      " 6   A6_Score         292 non-null    int64 \n",
      " 7   A7_Score         292 non-null    int64 \n",
      " 8   A8_Score         292 non-null    int64 \n",
      " 9   A9_Score         292 non-null    int64 \n",
      " 10  A10_Score        292 non-null    int64 \n",
      " 11  age              292 non-null    object\n",
      " 12  gender           292 non-null    object\n",
      " 13  ethnicity        292 non-null    object\n",
      " 14  jundice          292 non-null    object\n",
      " 15  austim           292 non-null    object\n",
      " 16  contry_of_res    292 non-null    object\n",
      " 17  used_app_before  292 non-null    object\n",
      " 18  result           292 non-null    int64 \n",
      " 19  age_desc         292 non-null    object\n",
      " 20  relation         292 non-null    object\n",
      " 21  Class/ASD        292 non-null    object\n",
      "dtypes: int64(12), object(10)\n",
      "memory usage: 50.3+ KB\n"
     ]
    }
   ],
   "source": [
    "df.info()"
   ]
  },
  {
   "attachments": {},
   "cell_type": "markdown",
   "metadata": {},
   "source": [
    "Cleaning Age"
   ]
  },
  {
   "cell_type": "code",
   "execution_count": 6,
   "metadata": {},
   "outputs": [],
   "source": [
    "df.loc[df['age'] == '?', 'age'] = float('nan')"
   ]
  },
  {
   "cell_type": "code",
   "execution_count": 7,
   "metadata": {},
   "outputs": [],
   "source": [
    "df.dropna(inplace=True)"
   ]
  },
  {
   "cell_type": "code",
   "execution_count": 8,
   "metadata": {},
   "outputs": [],
   "source": [
    "df['age'] = df['age'].astype(int)"
   ]
  },
  {
   "attachments": {},
   "cell_type": "markdown",
   "metadata": {},
   "source": [
    "Cleaning Gender"
   ]
  },
  {
   "cell_type": "code",
   "execution_count": 9,
   "metadata": {},
   "outputs": [
    {
     "data": {
      "text/plain": [
       "array(['m', 'f'], dtype=object)"
      ]
     },
     "execution_count": 9,
     "metadata": {},
     "output_type": "execute_result"
    }
   ],
   "source": [
    "df['gender'].unique()"
   ]
  },
  {
   "attachments": {},
   "cell_type": "markdown",
   "metadata": {},
   "source": [
    "Mapping f to 0 and m to 1"
   ]
  },
  {
   "cell_type": "code",
   "execution_count": 10,
   "metadata": {},
   "outputs": [],
   "source": [
    "df.loc[df['gender'] == 'f', 'gender'] = 0\n",
    "df.loc[df['gender'] == 'm', 'gender'] = 1"
   ]
  },
  {
   "cell_type": "code",
   "execution_count": 11,
   "metadata": {},
   "outputs": [],
   "source": [
    "df['gender'] = df['gender'].astype(int)"
   ]
  },
  {
   "attachments": {},
   "cell_type": "markdown",
   "metadata": {},
   "source": [
    "Cleaning ethnicity"
   ]
  },
  {
   "cell_type": "code",
   "execution_count": 12,
   "metadata": {},
   "outputs": [
    {
     "data": {
      "text/plain": [
       "array(['Others', 'Middle Eastern ', '?', 'White-European', 'Black',\n",
       "       'South Asian', 'Asian', 'Pasifika', 'Hispanic', 'Turkish',\n",
       "       'Latino'], dtype=object)"
      ]
     },
     "execution_count": 12,
     "metadata": {},
     "output_type": "execute_result"
    }
   ],
   "source": [
    "df['ethnicity'].unique()"
   ]
  },
  {
   "cell_type": "code",
   "execution_count": 13,
   "metadata": {},
   "outputs": [],
   "source": [
    "df.loc[df['ethnicity'] == '?', 'ethnicity'] = float('nan')"
   ]
  },
  {
   "cell_type": "code",
   "execution_count": 14,
   "metadata": {},
   "outputs": [],
   "source": [
    "df.dropna(inplace=True)"
   ]
  },
  {
   "attachments": {},
   "cell_type": "markdown",
   "metadata": {},
   "source": [
    "Cleaning jundice"
   ]
  },
  {
   "cell_type": "code",
   "execution_count": 15,
   "metadata": {},
   "outputs": [
    {
     "data": {
      "text/plain": [
       "array(['no', 'yes'], dtype=object)"
      ]
     },
     "execution_count": 15,
     "metadata": {},
     "output_type": "execute_result"
    }
   ],
   "source": [
    "df['jundice'].unique()"
   ]
  },
  {
   "cell_type": "code",
   "execution_count": 16,
   "metadata": {},
   "outputs": [],
   "source": [
    "df.loc[df['jundice'] == 'no', 'jundice'] = 0\n",
    "df.loc[df['jundice'] == 'yes', 'jundice'] = 1"
   ]
  },
  {
   "cell_type": "code",
   "execution_count": 17,
   "metadata": {},
   "outputs": [],
   "source": [
    "df['jundice'] = df['jundice'].astype(int)"
   ]
  },
  {
   "attachments": {},
   "cell_type": "markdown",
   "metadata": {},
   "source": [
    "Cleaning austim"
   ]
  },
  {
   "cell_type": "code",
   "execution_count": 18,
   "metadata": {},
   "outputs": [
    {
     "data": {
      "text/plain": [
       "array(['no', 'yes'], dtype=object)"
      ]
     },
     "execution_count": 18,
     "metadata": {},
     "output_type": "execute_result"
    }
   ],
   "source": [
    "df['austim'].unique()"
   ]
  },
  {
   "cell_type": "code",
   "execution_count": 19,
   "metadata": {},
   "outputs": [],
   "source": [
    "df.loc[df['austim'] == 'no', 'austim'] = 0\n",
    "df.loc[df['austim'] == 'yes', 'austim'] = 1"
   ]
  },
  {
   "cell_type": "code",
   "execution_count": 20,
   "metadata": {},
   "outputs": [],
   "source": [
    "df['austim'] = df['austim'].astype(int)"
   ]
  },
  {
   "attachments": {},
   "cell_type": "markdown",
   "metadata": {},
   "source": [
    "Changing Class/ASD"
   ]
  },
  {
   "cell_type": "code",
   "execution_count": 21,
   "metadata": {},
   "outputs": [
    {
     "data": {
      "text/plain": [
       "array(['NO', 'YES'], dtype=object)"
      ]
     },
     "execution_count": 21,
     "metadata": {},
     "output_type": "execute_result"
    }
   ],
   "source": [
    "df['Class/ASD'].unique()"
   ]
  },
  {
   "cell_type": "code",
   "execution_count": 22,
   "metadata": {},
   "outputs": [],
   "source": [
    "df.loc[df['Class/ASD'] == 'NO', 'Class/ASD'] = 0\n",
    "df.loc[df['Class/ASD'] == 'YES', 'Class/ASD'] = 1"
   ]
  },
  {
   "cell_type": "code",
   "execution_count": 23,
   "metadata": {},
   "outputs": [],
   "source": [
    "df['Class/ASD'] = df['Class/ASD'].astype(int)"
   ]
  },
  {
   "attachments": {},
   "cell_type": "markdown",
   "metadata": {},
   "source": [
    "Dropping relation, age_desc, used_app_before, id"
   ]
  },
  {
   "cell_type": "code",
   "execution_count": 24,
   "metadata": {},
   "outputs": [],
   "source": [
    "df.drop(['relation', 'age_desc', 'used_app_before', 'id'], axis = 1, inplace=True)"
   ]
  },
  {
   "cell_type": "code",
   "execution_count": 25,
   "metadata": {},
   "outputs": [
    {
     "name": "stdout",
     "output_type": "stream",
     "text": [
      "<class 'pandas.core.frame.DataFrame'>\n",
      "Int64Index: 248 entries, 0 to 291\n",
      "Data columns (total 18 columns):\n",
      " #   Column         Non-Null Count  Dtype \n",
      "---  ------         --------------  ----- \n",
      " 0   A1_Score       248 non-null    int64 \n",
      " 1   A2_Score       248 non-null    int64 \n",
      " 2   A3_Score       248 non-null    int64 \n",
      " 3   A4_Score       248 non-null    int64 \n",
      " 4   A5_Score       248 non-null    int64 \n",
      " 5   A6_Score       248 non-null    int64 \n",
      " 6   A7_Score       248 non-null    int64 \n",
      " 7   A8_Score       248 non-null    int64 \n",
      " 8   A9_Score       248 non-null    int64 \n",
      " 9   A10_Score      248 non-null    int64 \n",
      " 10  age            248 non-null    int32 \n",
      " 11  gender         248 non-null    int32 \n",
      " 12  ethnicity      248 non-null    object\n",
      " 13  jundice        248 non-null    int32 \n",
      " 14  austim         248 non-null    int32 \n",
      " 15  contry_of_res  248 non-null    object\n",
      " 16  result         248 non-null    int64 \n",
      " 17  Class/ASD      248 non-null    int32 \n",
      "dtypes: int32(5), int64(11), object(2)\n",
      "memory usage: 32.0+ KB\n"
     ]
    }
   ],
   "source": [
    "df.info()"
   ]
  },
  {
   "attachments": {},
   "cell_type": "markdown",
   "metadata": {},
   "source": [
    "One hot encoding ethnicity and contry_of_res"
   ]
  },
  {
   "cell_type": "code",
   "execution_count": 26,
   "metadata": {},
   "outputs": [],
   "source": [
    "df = pd.get_dummies(df)"
   ]
  },
  {
   "cell_type": "code",
   "execution_count": 27,
   "metadata": {},
   "outputs": [
    {
     "name": "stdout",
     "output_type": "stream",
     "text": [
      "<class 'pandas.core.frame.DataFrame'>\n",
      "Int64Index: 248 entries, 0 to 291\n",
      "Data columns (total 72 columns):\n",
      " #   Column                               Non-Null Count  Dtype\n",
      "---  ------                               --------------  -----\n",
      " 0   A1_Score                             248 non-null    int64\n",
      " 1   A2_Score                             248 non-null    int64\n",
      " 2   A3_Score                             248 non-null    int64\n",
      " 3   A4_Score                             248 non-null    int64\n",
      " 4   A5_Score                             248 non-null    int64\n",
      " 5   A6_Score                             248 non-null    int64\n",
      " 6   A7_Score                             248 non-null    int64\n",
      " 7   A8_Score                             248 non-null    int64\n",
      " 8   A9_Score                             248 non-null    int64\n",
      " 9   A10_Score                            248 non-null    int64\n",
      " 10  age                                  248 non-null    int32\n",
      " 11  gender                               248 non-null    int32\n",
      " 12  jundice                              248 non-null    int32\n",
      " 13  austim                               248 non-null    int32\n",
      " 14  result                               248 non-null    int64\n",
      " 15  Class/ASD                            248 non-null    int32\n",
      " 16  ethnicity_Asian                      248 non-null    uint8\n",
      " 17  ethnicity_Black                      248 non-null    uint8\n",
      " 18  ethnicity_Hispanic                   248 non-null    uint8\n",
      " 19  ethnicity_Latino                     248 non-null    uint8\n",
      " 20  ethnicity_Middle Eastern             248 non-null    uint8\n",
      " 21  ethnicity_Others                     248 non-null    uint8\n",
      " 22  ethnicity_Pasifika                   248 non-null    uint8\n",
      " 23  ethnicity_South Asian                248 non-null    uint8\n",
      " 24  ethnicity_Turkish                    248 non-null    uint8\n",
      " 25  ethnicity_White-European             248 non-null    uint8\n",
      " 26  contry_of_res_Afghanistan            248 non-null    uint8\n",
      " 27  contry_of_res_Argentina              248 non-null    uint8\n",
      " 28  contry_of_res_Armenia                248 non-null    uint8\n",
      " 29  contry_of_res_Australia              248 non-null    uint8\n",
      " 30  contry_of_res_Austria                248 non-null    uint8\n",
      " 31  contry_of_res_Bahrain                248 non-null    uint8\n",
      " 32  contry_of_res_Bangladesh             248 non-null    uint8\n",
      " 33  contry_of_res_Bhutan                 248 non-null    uint8\n",
      " 34  contry_of_res_Brazil                 248 non-null    uint8\n",
      " 35  contry_of_res_Bulgaria               248 non-null    uint8\n",
      " 36  contry_of_res_Canada                 248 non-null    uint8\n",
      " 37  contry_of_res_Costa Rica             248 non-null    uint8\n",
      " 38  contry_of_res_Egypt                  248 non-null    uint8\n",
      " 39  contry_of_res_Europe                 248 non-null    uint8\n",
      " 40  contry_of_res_Georgia                248 non-null    uint8\n",
      " 41  contry_of_res_Germany                248 non-null    uint8\n",
      " 42  contry_of_res_Ghana                  248 non-null    uint8\n",
      " 43  contry_of_res_India                  248 non-null    uint8\n",
      " 44  contry_of_res_Iraq                   248 non-null    uint8\n",
      " 45  contry_of_res_Ireland                248 non-null    uint8\n",
      " 46  contry_of_res_Isle of Man            248 non-null    uint8\n",
      " 47  contry_of_res_Italy                  248 non-null    uint8\n",
      " 48  contry_of_res_Japan                  248 non-null    uint8\n",
      " 49  contry_of_res_Jordan                 248 non-null    uint8\n",
      " 50  contry_of_res_Libya                  248 non-null    uint8\n",
      " 51  contry_of_res_Malaysia               248 non-null    uint8\n",
      " 52  contry_of_res_Malta                  248 non-null    uint8\n",
      " 53  contry_of_res_Mexico                 248 non-null    uint8\n",
      " 54  contry_of_res_Nepal                  248 non-null    uint8\n",
      " 55  contry_of_res_Netherlands            248 non-null    uint8\n",
      " 56  contry_of_res_New Zealand            248 non-null    uint8\n",
      " 57  contry_of_res_Nigeria                248 non-null    uint8\n",
      " 58  contry_of_res_Oman                   248 non-null    uint8\n",
      " 59  contry_of_res_Pakistan               248 non-null    uint8\n",
      " 60  contry_of_res_Philippines            248 non-null    uint8\n",
      " 61  contry_of_res_Romania                248 non-null    uint8\n",
      " 62  contry_of_res_Saudi Arabia           248 non-null    uint8\n",
      " 63  contry_of_res_South Africa           248 non-null    uint8\n",
      " 64  contry_of_res_South Korea            248 non-null    uint8\n",
      " 65  contry_of_res_Sweden                 248 non-null    uint8\n",
      " 66  contry_of_res_Syria                  248 non-null    uint8\n",
      " 67  contry_of_res_Turkey                 248 non-null    uint8\n",
      " 68  contry_of_res_U.S. Outlying Islands  248 non-null    uint8\n",
      " 69  contry_of_res_United Arab Emirates   248 non-null    uint8\n",
      " 70  contry_of_res_United Kingdom         248 non-null    uint8\n",
      " 71  contry_of_res_United States          248 non-null    uint8\n",
      "dtypes: int32(5), int64(11), uint8(56)\n",
      "memory usage: 41.7 KB\n"
     ]
    }
   ],
   "source": [
    "df.info()"
   ]
  },
  {
   "cell_type": "code",
   "execution_count": 28,
   "metadata": {},
   "outputs": [],
   "source": [
    "df.to_csv(\"./Data/child_cleaned.csv\", index=False)"
   ]
  }
 ],
 "metadata": {
  "kernelspec": {
   "display_name": "Python 3",
   "language": "python",
   "name": "python3"
  },
  "language_info": {
   "codemirror_mode": {
    "name": "ipython",
    "version": 3
   },
   "file_extension": ".py",
   "mimetype": "text/x-python",
   "name": "python",
   "nbconvert_exporter": "python",
   "pygments_lexer": "ipython3",
   "version": "3.10.0"
  },
  "orig_nbformat": 4,
  "vscode": {
   "interpreter": {
    "hash": "369f2c481f4da34e4445cda3fffd2e751bd1c4d706f27375911949ba6bb62e1c"
   }
  }
 },
 "nbformat": 4,
 "nbformat_minor": 2
}
